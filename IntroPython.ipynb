{
  "nbformat": 4,
  "nbformat_minor": 0,
  "metadata": {
    "colab": {
      "name": "IntroPython.ipynb",
      "provenance": [],
      "authorship_tag": "ABX9TyM4tPkGQXqzfd0JZwPIuAsJ",
      "include_colab_link": true
    },
    "kernelspec": {
      "name": "python3",
      "display_name": "Python 3"
    },
    "language_info": {
      "name": "python"
    }
  },
  "cells": [
    {
      "cell_type": "markdown",
      "metadata": {
        "id": "view-in-github",
        "colab_type": "text"
      },
      "source": [
        "<a href=\"https://colab.research.google.com/github/Lo-Hacker/PyhtonLearn/blob/main/IntroPython.ipynb\" target=\"_parent\"><img src=\"https://colab.research.google.com/assets/colab-badge.svg\" alt=\"Open In Colab\"/></a>"
      ]
    },
    {
      "cell_type": "markdown",
      "source": [
        "# ***Introduction to Python language***\n",
        "\\#this is a comment\n",
        "\n",
        "If i forgot a closed parentheses i get syntax error"
      ],
      "metadata": {
        "id": "3OOBkm8Wxj-F"
      }
    },
    {
      "cell_type": "markdown",
      "source": [
        "# **Values and Data Types**"
      ],
      "metadata": {
        "id": "eoW4Vd8nyJBL"
      }
    },
    {
      "cell_type": "code",
      "source": [
        "print(100)#integer\n",
        "print(3.14)#float\n",
        "print(\"Hello\")#string"
      ],
      "metadata": {
        "colab": {
          "base_uri": "https://localhost:8080/"
        },
        "id": "23DyssPQzrsR",
        "outputId": "a920b7c2-d323-4a6f-8ada-f178e6979162"
      },
      "execution_count": 3,
      "outputs": [
        {
          "output_type": "stream",
          "name": "stdout",
          "text": [
            "100\n",
            "3.14\n",
            "Hello\n"
          ]
        }
      ]
    },
    {
      "cell_type": "code",
      "source": [
        "print(10/3)#float\n",
        "print(10//3)#round to integer\n",
        "print(10 % 3)# module operator\n",
        "print (4**2)#power operator"
      ],
      "metadata": {
        "colab": {
          "base_uri": "https://localhost:8080/"
        },
        "id": "d-a83KBFzzyY",
        "outputId": "42a0d2a5-48ab-4a20-9963-00f90ee4e1f5"
      },
      "execution_count": 5,
      "outputs": [
        {
          "output_type": "stream",
          "name": "stdout",
          "text": [
            "3.3333333333333335\n",
            "3\n",
            "1\n",
            "16\n"
          ]
        }
      ]
    },
    {
      "cell_type": "markdown",
      "source": [
        "rule of operation\n"
      ],
      "metadata": {
        "id": "RGlwp53xGxmp"
      }
    },
    {
      "cell_type": "code",
      "source": [
        "print(10+20/2)\n",
        "print((10+20)/2)"
      ],
      "metadata": {
        "colab": {
          "base_uri": "https://localhost:8080/"
        },
        "id": "7ZtbuoZoGz89",
        "outputId": "198b2f8d-5ec5-41d6-cb86-14f13888db56"
      },
      "execution_count": 6,
      "outputs": [
        {
          "output_type": "stream",
          "name": "stdout",
          "text": [
            "20.0\n",
            "15.0\n"
          ]
        }
      ]
    },
    {
      "cell_type": "markdown",
      "source": [
        "# **Function calls**"
      ],
      "metadata": {
        "id": "TFBjc75IHxnO"
      }
    },
    {
      "cell_type": "code",
      "source": [
        "import numpy as np\n",
        "print(np.square(3))\n"
      ],
      "metadata": {
        "colab": {
          "base_uri": "https://localhost:8080/"
        },
        "id": "ZjMnmgrLH0OX",
        "outputId": "5923ffc0-416f-4029-ba35-44ad06a84c4e"
      },
      "execution_count": 11,
      "outputs": [
        {
          "output_type": "stream",
          "name": "stdout",
          "text": [
            "9\n"
          ]
        }
      ]
    },
    {
      "cell_type": "markdown",
      "source": [
        "# **Data Type**"
      ],
      "metadata": {
        "id": "Lq9WvqVrJukl"
      }
    },
    {
      "cell_type": "code",
      "source": [
        "print(type(\"Hello,World!\"))\n",
        "print(type(16))\n",
        "print(type(3.14))"
      ],
      "metadata": {
        "colab": {
          "base_uri": "https://localhost:8080/"
        },
        "id": "XHEGGJaUJ2zd",
        "outputId": "d5acbe60-d518-42bf-80ed-b294c2801b7e"
      },
      "execution_count": 13,
      "outputs": [
        {
          "output_type": "stream",
          "name": "stdout",
          "text": [
            "<class 'str'>\n",
            "<class 'int'>\n",
            "<class 'float'>\n"
          ]
        }
      ]
    },
    {
      "cell_type": "code",
      "source": [
        ""
      ],
      "metadata": {
        "id": "EFzKUgOiJ7QQ"
      },
      "execution_count": null,
      "outputs": []
    }
  ]
}